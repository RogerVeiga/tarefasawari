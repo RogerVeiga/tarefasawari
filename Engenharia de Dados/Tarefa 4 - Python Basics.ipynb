{
 "cells": [
  {
   "cell_type": "markdown",
   "id": "9012855f-824a-4733-8b4f-c4739e1d17e3",
   "metadata": {},
   "source": [
    "# Tarefa Aula 4 Engenharia de Dados Awari\n",
    "## Rogerio Veiga Andrade - 22/09/2023"
   ]
  },
  {
   "cell_type": "markdown",
   "id": "d3572af9-fd92-417a-9eab-828bedc20657",
   "metadata": {},
   "source": [
    "### 1 - Criar algoritmo que liste toda a sequência de Fibonacci até o número 100;"
   ]
  },
  {
   "cell_type": "code",
   "execution_count": 6,
   "id": "42e381f3-8173-437c-adfe-bf86d71897df",
   "metadata": {
    "tags": []
   },
   "outputs": [
    {
     "name": "stdout",
     "output_type": "stream",
     "text": [
      "[1, 1, 2, 3, 5, 8, 13, 21, 34, 55, 89]\n"
     ]
    }
   ],
   "source": [
    "x = [1, 1]\n",
    "while True:\n",
    "    x.append(x[-1] + x[-2])\n",
    "    if x[-1] > 100:\n",
    "        x.pop()\n",
    "        break\n",
    "print(x)"
   ]
  },
  {
   "cell_type": "markdown",
   "id": "f72120f9-ad27-41c3-8b57-5cbc7217ec10",
   "metadata": {},
   "source": [
    "### 2 - Criar algoritmo que faça a fatoração do número 1024. (Exemplo de fatoração: 6! = 6\\*5\\*4\\*3\\*2\\*1)."
   ]
  },
  {
   "cell_type": "code",
   "execution_count": 11,
   "id": "d920632f-ba07-447c-8122-5449acb64eca",
   "metadata": {
    "tags": []
   },
   "outputs": [
    {
     "name": "stdout",
     "output_type": "stream",
     "text": [
      "Fatoração de 1024: 2*2*2*2*2*2*2*2*2*2\n"
     ]
    }
   ],
   "source": [
    "num = 1024\n",
    "numero = num\n",
    "fatores = []\n",
    "\n",
    "while numero > 1:\n",
    "    for i in range(2, numero + 1):\n",
    "        if numero % i == 0:\n",
    "            fatores.append(i)\n",
    "            numero //= i\n",
    "            break\n",
    "\n",
    "fatoracao = '*'.join(map(str, fatores))\n",
    "print(f\"Fatoração de {num}: {fatoracao}\")\n"
   ]
  },
  {
   "cell_type": "markdown",
   "id": "1726f2d9-26be-46bc-a87d-40a322812d36",
   "metadata": {},
   "source": [
    "### 3 - Criar uma lista de frutas (bananas, maçãs, peras, uvas, laranjas) e fazer um algoritmo para consultar se uma fruta existe na lista. Caso não exista, adicionar a nova fruta. O programa só deve encerrar a brincadeira quando o usuário informar o número 999."
   ]
  },
  {
   "cell_type": "code",
   "execution_count": null,
   "id": "ecfc0011-0d67-42ad-a85c-e8a63503ac56",
   "metadata": {
    "tags": []
   },
   "outputs": [
    {
     "name": "stdout",
     "output_type": "stream",
     "text": [
      "Programa iniciado! Frutas: ['bananas', 'macas', 'peras', 'uvas', 'laranjas']\n",
      "Insira uma fruta:\n"
     ]
    }
   ],
   "source": [
    "frutas = ['bananas', 'macas', 'peras', 'uvas', 'laranjas']\n",
    "print(f\"Programa iniciado! Frutas: {frutas}\")\n",
    "while True:\n",
    "    print('Insira uma fruta:')\n",
    "    fruta = input()\n",
    "    if fruta == '999':\n",
    "        print('Programa encerrado!')\n",
    "        break\n",
    "    elif fruta in frutas:\n",
    "        print('Essa fruta já está na lista!')\n",
    "    else:\n",
    "        frutas.append(fruta)\n",
    "        print(f'Essa fruta não estava na lista, mas acaba de ser adicionada! Frutas: {frutas}')"
   ]
  },
  {
   "cell_type": "code",
   "execution_count": null,
   "id": "fb8089a2-415a-400b-80fc-8417fa584184",
   "metadata": {},
   "outputs": [],
   "source": []
  }
 ],
 "metadata": {
  "kernelspec": {
   "display_name": "Python 3 (ipykernel)",
   "language": "python",
   "name": "python3"
  },
  "language_info": {
   "codemirror_mode": {
    "name": "ipython",
    "version": 3
   },
   "file_extension": ".py",
   "mimetype": "text/x-python",
   "name": "python",
   "nbconvert_exporter": "python",
   "pygments_lexer": "ipython3",
   "version": "3.10.9"
  }
 },
 "nbformat": 4,
 "nbformat_minor": 5
}
