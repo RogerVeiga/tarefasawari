{
 "cells": [
  {
   "cell_type": "markdown",
   "id": "22310527-5946-43d5-9a50-7c90a702a37e",
   "metadata": {},
   "source": [
    "# Tarefa Aula 8 Engenharia de Dados Awari\n",
    "## Rogerio Veiga Andrade - 08/11/2023\n",
    "\n",
    "### Importar CSVs da pasta /exercicios/municipios-estados/csv/ e salvar como arquivos JSON no MinIO.\n",
    "### Importar JSONs da pasta de /exercicios/municipios-estados/csv/ e salvar como arquivos CSV no MinIO.\n",
    "### Importar CSVs da pasta de /exercicios/municipios-estados/csv/ e salvar como arquivo .parquet no MinIO."
   ]
  },
  {
   "cell_type": "code",
   "execution_count": 1,
   "id": "0727bac6-0816-472b-91fa-ae83471e078d",
   "metadata": {
    "tags": []
   },
   "outputs": [],
   "source": [
    "import pyspark\n",
    "import boto3\n",
    "\n",
    "from io import StringIO \n",
    "from pyspark.sql import SparkSession\n",
    "from pyspark.sql.types import StructType,StructField, StringType, IntegerType \n",
    "from pyspark.sql.types import ArrayType, DoubleType, BooleanType\n",
    "from pyspark.sql.functions import col,array_contains"
   ]
  },
  {
   "cell_type": "code",
   "execution_count": 2,
   "id": "52e19e63-9dd2-4642-b616-26ec5eddeb6c",
   "metadata": {
    "tags": []
   },
   "outputs": [],
   "source": [
    "conf = pyspark.SparkConf()\n",
    "\n",
    "# Criando uma sessão com o Spark que existe localmente(atualmente configurado junto com o JupyterLab)\n",
    "conf.setMaster(\"local[1]\") \n",
    "conf.set(\"spark.driver.host\", \"awari-jupyterlab\") \\\n",
    "    .set(\"spark.sql.sources.commitProtocolClass\", \"org.apache.spark.sql.execution.datasources.SQLHadoopMapReduceCommitProtocol\") \\\n",
    "    .set(\"parquet.enable.summary-metadata\", \"false\") \\\n",
    "    .set(\"mapreduce.fileoutputcommitter.marksuccessfuljobs\", \"false\") \\\n",
    "    .set(\"spark.driver.port\", \"20020\") \\\n",
    "    .set(\"spark.hadoop.fs.s3a.endpoint\", 'awari-nginx:9000') \\\n",
    "    .set(\"spark.hadoop.fs.s3a.endpoint.region\", 'sa-east-1') \\\n",
    "    .set(\"spark.hadoop.fs.s3a.access.key\", '6DdjRBILhyMi2G2i') \\\n",
    "    .set(\"spark.hadoop.fs.s3a.secret.key\", '9LSWJZT7f0i8FgjzflQQYrOq9tvUQrD1') \\\n",
    "    .set(\"spark.hadoop.fs.s3a.impl\", \"org.apache.hadoop.fs.s3a.S3AFileSystem\") \\\n",
    "    .set(\"spark.hadoop.fs.s3a.connection.ssl.enabled\", \"false\") \\\n",
    "    .set(\"spark.hadoop.com.amazonaws.services.s3.enableV2\", \"true\") \\\n",
    "    .set(\"spark.hadoop.fs.s3a.committer.staging.conflict-mode\", \"replace\") \\\n",
    "    .set(\"spark.hadoop.fs.s3a.fast.upload\", True) \\\n",
    "    .set(\"spark.hadoop.fs.s3a.path.style.access\", True) \\\n",
    "    .set(\"spark.hadoop.fs.s3a.committer.name\", \"directory\") \\\n",
    "    .set(\"spark.hadoop.fs.s3a.committer.staging.tmp.path\", \"/tmp/staging\")\n",
    "\n",
    "conf.setAppName('AwariAula08-S33')\n",
    "sc = pyspark.SparkContext(conf=conf)\n",
    "\n",
    "spark = SparkSession(sc)"
   ]
  },
  {
   "cell_type": "code",
   "execution_count": 3,
   "id": "632d007c-81eb-4ca3-ac7c-36c1173300ff",
   "metadata": {
    "tags": []
   },
   "outputs": [],
   "source": [
    "client = boto3.client('s3', \n",
    "    endpoint_url='http://awari-minio-nginx:9000',\n",
    "    aws_access_key_id='6DdjRBILhyMi2G2i',\n",
    "    aws_secret_access_key='9LSWJZT7f0i8FgjzflQQYrOq9tvUQrD1',\n",
    "    aws_session_token=None,\n",
    "    config=boto3.session.Config(signature_version='s3v4'),\n",
    "    verify=False,\n",
    "    region_name='sa-east-1'\n",
    ")"
   ]
  },
  {
   "cell_type": "code",
   "execution_count": 5,
   "id": "130c9143-bed2-464e-9fda-b7c7913a3203",
   "metadata": {
    "tags": []
   },
   "outputs": [
    {
     "name": "stdout",
     "output_type": "stream",
     "text": [
      "+-----------+-------------------+--------+---------+-------+---------+--------+---+-----------------+\n",
      "|codigo_ibge|               nome|latitude|longitude|capital|codigo_uf|siafi_id|ddd|     fuso_horario|\n",
      "+-----------+-------------------+--------+---------+-------+---------+--------+---+-----------------+\n",
      "|    5200050|    Abadia de Goiás|-16.7573| -49.4412|      0|       52|    1050| 62|America/Sao_Paulo|\n",
      "|    3100104|Abadia dos Dourados|-18.4831| -47.3916|      0|       31|    4001| 34|America/Sao_Paulo|\n",
      "|    5200100|          Abadiânia| -16.197| -48.7057|      0|       52|    9201| 62|America/Sao_Paulo|\n",
      "|    3100203|             Abaeté|-19.1551| -45.4444|      0|       31|    4003| 37|America/Sao_Paulo|\n",
      "|    1500107|         Abaetetuba|-1.72183| -48.8788|      0|       15|    0401| 91|America/Sao_Paulo|\n",
      "|    2300101|            Abaiara|-7.34588| -39.0416|      0|       23|    1301| 88|America/Sao_Paulo|\n",
      "|    2900108|             Abaíra|-13.2488| -41.6619|      0|       29|    3301| 77|America/Sao_Paulo|\n",
      "|    2900207|              Abaré|-8.72073| -39.1162|      0|       29|    3303| 75|America/Sao_Paulo|\n",
      "|    4100103|             Abatiá|-23.3049| -50.3133|      0|       41|    7401| 43|America/Sao_Paulo|\n",
      "|    4200051|      Abdon Batista|-27.6126| -51.0233|      0|       42|    9939| 49|America/Sao_Paulo|\n",
      "|    1500131|    Abel Figueiredo|-4.95333| -48.3933|      0|       15|    0375| 94|America/Sao_Paulo|\n",
      "|    4200101|       Abelardo Luz|-26.5716| -52.3229|      0|       42|    8001| 49|America/Sao_Paulo|\n",
      "|    3100302|         Abre Campo|-20.2996| -42.4743|      0|       31|    4005| 31|America/Sao_Paulo|\n",
      "|    2600054|       Abreu e Lima|-7.90072| -34.8984|      0|       26|    2631| 81|America/Sao_Paulo|\n",
      "|    1700251|        Abreulândia|-9.62101| -49.1518|      0|       17|    0337| 63|America/Sao_Paulo|\n",
      "|    3100401|            Acaiaca| -20.359| -43.1439|      0|       31|    4007| 31|America/Sao_Paulo|\n",
      "|    2100055|         Açailândia|-4.94714| -47.5004|      0|       21|    0961| 99|America/Sao_Paulo|\n",
      "|    2900306|          Acajutiba|-11.6575| -38.0197|      0|       29|    3305| 75|America/Sao_Paulo|\n",
      "|    1500206|              Acará|-1.95383| -48.1985|      0|       15|    0403| 91|America/Sao_Paulo|\n",
      "|    2300150|            Acarape|-4.22083| -38.7055|      0|       23|    1231| 85|America/Sao_Paulo|\n",
      "+-----------+-------------------+--------+---------+-------+---------+--------+---+-----------------+\n",
      "only showing top 20 rows\n",
      "\n",
      "+---------+---+-------------------+--------+---------+--------+\n",
      "|codigo_uf| uf|               nome|latitude|longitude|  regiao|\n",
      "+---------+---+-------------------+--------+---------+--------+\n",
      "|       11| RO|           Rondônia|  -10.83|   -63.34|   Norte|\n",
      "|       12| AC|               Acre|   -8.77|   -70.55|   Norte|\n",
      "|       13| AM|           Amazonas|   -3.47|    -65.1|   Norte|\n",
      "|       14| RR|            Roraima|    1.99|   -61.33|   Norte|\n",
      "|       15| PA|               Pará|   -3.79|   -52.48|   Norte|\n",
      "|       16| AP|              Amapá|    1.41|   -51.77|   Norte|\n",
      "|       17| TO|          Tocantins|   -9.46|   -48.26|   Norte|\n",
      "|       21| MA|           Maranhão|   -5.42|   -45.44|Nordeste|\n",
      "|       22| PI|              Piauí|    -6.6|   -42.28|Nordeste|\n",
      "|       23| CE|              Ceará|    -5.2|   -39.53|Nordeste|\n",
      "|       24| RN|Rio Grande do Norte|   -5.81|   -36.59|Nordeste|\n",
      "|       25| PB|            Paraíba|   -7.28|   -36.72|Nordeste|\n",
      "|       26| PE|         Pernambuco|   -8.38|   -37.86|Nordeste|\n",
      "|       27| AL|            Alagoas|   -9.62|   -36.82|Nordeste|\n",
      "|       28| SE|            Sergipe|  -10.57|   -37.45|Nordeste|\n",
      "|       29| BA|              Bahia|  -13.29|   -41.71|Nordeste|\n",
      "|       31| MG|       Minas Gerais|   -18.1|   -44.38| Sudeste|\n",
      "|       32| ES|     Espírito Santo|  -19.19|   -40.34| Sudeste|\n",
      "|       33| RJ|     Rio de Janeiro|  -22.25|   -42.66| Sudeste|\n",
      "|       35| SP|          São Paulo|  -22.19|   -48.79| Sudeste|\n",
      "+---------+---+-------------------+--------+---------+--------+\n",
      "only showing top 20 rows\n",
      "\n"
     ]
    }
   ],
   "source": [
    "municipios = spark.read.option(\"header\", True).csv(\"./arquivos/municipios.csv\")\n",
    "estados = spark.read.option(\"header\", True).csv(\"./arquivos/estados.csv\")\n",
    "municipios.show()\n",
    "estados.show()"
   ]
  },
  {
   "cell_type": "code",
   "execution_count": 39,
   "id": "fc5c6c47-3b18-4daf-b2a2-c4d1963888aa",
   "metadata": {
    "tags": []
   },
   "outputs": [],
   "source": [
    "municipios.write.option(\"header\", True).option(\"name\", \"municipios.csv\").mode(\"overwrite\").format(\"csv\").csv(\"s3a://aula-08/municipios_csv\")\n",
    "estados.write.option(\"header\", True).option(\"name\", \"estados.csv\").mode(\"overwrite\").format(\"csv\").csv(\"s3a://aula-08/estados_csv\")"
   ]
  },
  {
   "cell_type": "code",
   "execution_count": 40,
   "id": "2191adf5-35a4-4e22-882a-6e44d54cd5f7",
   "metadata": {
    "tags": []
   },
   "outputs": [],
   "source": [
    "municipios.write.option(\"header\", True).option(\"name\", \"municipios.json\").mode(\"overwrite\").format('json').save(\"s3a://aula-08/municipios_json\")\n",
    "estados.write.option(\"header\", True).option(\"name\", \"estados.json\").mode(\"overwrite\").format(\"json\").csv(\"s3a://aula-08/estados_json\")"
   ]
  },
  {
   "cell_type": "code",
   "execution_count": 41,
   "id": "8168dceb-1448-4f86-8d04-79f59bdcbaab",
   "metadata": {
    "tags": []
   },
   "outputs": [],
   "source": [
    "municipios.write.mode(\"overwrite\").save(\"s3a://aula-08/municipios_parquet\")\n",
    "estados.write.mode(\"overwrite\").save(\"s3a://aula-08/estados_parquet\")"
   ]
  },
  {
   "cell_type": "code",
   "execution_count": 43,
   "id": "7ae16a01-d766-4af3-b4d6-d51546d292c8",
   "metadata": {
    "tags": []
   },
   "outputs": [
    {
     "name": "stdout",
     "output_type": "stream",
     "text": [
      "+-----------+-------------------+--------+---------+-------+---------+--------+---+-----------------+\n",
      "|codigo_ibge|               nome|latitude|longitude|capital|codigo_uf|siafi_id|ddd|     fuso_horario|\n",
      "+-----------+-------------------+--------+---------+-------+---------+--------+---+-----------------+\n",
      "|    5200050|    Abadia de Goiás|-16.7573| -49.4412|      0|       52|    1050| 62|America/Sao_Paulo|\n",
      "|    3100104|Abadia dos Dourados|-18.4831| -47.3916|      0|       31|    4001| 34|America/Sao_Paulo|\n",
      "|    5200100|          Abadiânia| -16.197| -48.7057|      0|       52|    9201| 62|America/Sao_Paulo|\n",
      "|    3100203|             Abaeté|-19.1551| -45.4444|      0|       31|    4003| 37|America/Sao_Paulo|\n",
      "|    1500107|         Abaetetuba|-1.72183| -48.8788|      0|       15|    0401| 91|America/Sao_Paulo|\n",
      "|    2300101|            Abaiara|-7.34588| -39.0416|      0|       23|    1301| 88|America/Sao_Paulo|\n",
      "|    2900108|             Abaíra|-13.2488| -41.6619|      0|       29|    3301| 77|America/Sao_Paulo|\n",
      "|    2900207|              Abaré|-8.72073| -39.1162|      0|       29|    3303| 75|America/Sao_Paulo|\n",
      "|    4100103|             Abatiá|-23.3049| -50.3133|      0|       41|    7401| 43|America/Sao_Paulo|\n",
      "|    4200051|      Abdon Batista|-27.6126| -51.0233|      0|       42|    9939| 49|America/Sao_Paulo|\n",
      "|    1500131|    Abel Figueiredo|-4.95333| -48.3933|      0|       15|    0375| 94|America/Sao_Paulo|\n",
      "|    4200101|       Abelardo Luz|-26.5716| -52.3229|      0|       42|    8001| 49|America/Sao_Paulo|\n",
      "|    3100302|         Abre Campo|-20.2996| -42.4743|      0|       31|    4005| 31|America/Sao_Paulo|\n",
      "|    2600054|       Abreu e Lima|-7.90072| -34.8984|      0|       26|    2631| 81|America/Sao_Paulo|\n",
      "|    1700251|        Abreulândia|-9.62101| -49.1518|      0|       17|    0337| 63|America/Sao_Paulo|\n",
      "|    3100401|            Acaiaca| -20.359| -43.1439|      0|       31|    4007| 31|America/Sao_Paulo|\n",
      "|    2100055|         Açailândia|-4.94714| -47.5004|      0|       21|    0961| 99|America/Sao_Paulo|\n",
      "|    2900306|          Acajutiba|-11.6575| -38.0197|      0|       29|    3305| 75|America/Sao_Paulo|\n",
      "|    1500206|              Acará|-1.95383| -48.1985|      0|       15|    0403| 91|America/Sao_Paulo|\n",
      "|    2300150|            Acarape|-4.22083| -38.7055|      0|       23|    1231| 85|America/Sao_Paulo|\n",
      "+-----------+-------------------+--------+---------+-------+---------+--------+---+-----------------+\n",
      "only showing top 20 rows\n",
      "\n",
      "+---------+---+-------------------+--------+---------+--------+\n",
      "|codigo_uf| uf|               nome|latitude|longitude|  regiao|\n",
      "+---------+---+-------------------+--------+---------+--------+\n",
      "|       11| RO|           Rondônia|  -10.83|   -63.34|   Norte|\n",
      "|       12| AC|               Acre|   -8.77|   -70.55|   Norte|\n",
      "|       13| AM|           Amazonas|   -3.47|    -65.1|   Norte|\n",
      "|       14| RR|            Roraima|    1.99|   -61.33|   Norte|\n",
      "|       15| PA|               Pará|   -3.79|   -52.48|   Norte|\n",
      "|       16| AP|              Amapá|    1.41|   -51.77|   Norte|\n",
      "|       17| TO|          Tocantins|   -9.46|   -48.26|   Norte|\n",
      "|       21| MA|           Maranhão|   -5.42|   -45.44|Nordeste|\n",
      "|       22| PI|              Piauí|    -6.6|   -42.28|Nordeste|\n",
      "|       23| CE|              Ceará|    -5.2|   -39.53|Nordeste|\n",
      "|       24| RN|Rio Grande do Norte|   -5.81|   -36.59|Nordeste|\n",
      "|       25| PB|            Paraíba|   -7.28|   -36.72|Nordeste|\n",
      "|       26| PE|         Pernambuco|   -8.38|   -37.86|Nordeste|\n",
      "|       27| AL|            Alagoas|   -9.62|   -36.82|Nordeste|\n",
      "|       28| SE|            Sergipe|  -10.57|   -37.45|Nordeste|\n",
      "|       29| BA|              Bahia|  -13.29|   -41.71|Nordeste|\n",
      "|       31| MG|       Minas Gerais|   -18.1|   -44.38| Sudeste|\n",
      "|       32| ES|     Espírito Santo|  -19.19|   -40.34| Sudeste|\n",
      "|       33| RJ|     Rio de Janeiro|  -22.25|   -42.66| Sudeste|\n",
      "|       35| SP|          São Paulo|  -22.19|   -48.79| Sudeste|\n",
      "+---------+---+-------------------+--------+---------+--------+\n",
      "only showing top 20 rows\n",
      "\n"
     ]
    }
   ],
   "source": [
    "df_tmp = spark.read.option(\"header\", True).parquet(\"s3a://aula-08/municipios_parquet\")\n",
    "df_tmp.show()\n",
    "df_tmp = spark.read.option(\"header\", True).parquet(\"s3a://aula-08/estados_parquet\")\n",
    "df_tmp.show()"
   ]
  },
  {
   "cell_type": "code",
   "execution_count": null,
   "id": "294081c9-b62b-45c4-9311-5b14d267afea",
   "metadata": {},
   "outputs": [],
   "source": []
  }
 ],
 "metadata": {
  "kernelspec": {
   "display_name": "Python 3 (ipykernel)",
   "language": "python",
   "name": "python3"
  },
  "language_info": {
   "codemirror_mode": {
    "name": "ipython",
    "version": 3
   },
   "file_extension": ".py",
   "mimetype": "text/x-python",
   "name": "python",
   "nbconvert_exporter": "python",
   "pygments_lexer": "ipython3",
   "version": "3.10.9"
  }
 },
 "nbformat": 4,
 "nbformat_minor": 5
}
